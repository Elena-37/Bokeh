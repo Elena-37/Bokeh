{
  "cells": [
    {
      "cell_type": "markdown",
      "metadata": {
        "id": "r_-8Y-2JhKqC"
      },
      "source": [
        "# **Библиотека для визуализаций Bokeh**"
      ]
    },
    {
      "cell_type": "markdown",
      "metadata": {
        "id": "phPoMPh4hf8a"
      },
      "source": [
        "\n",
        "[Bokeh](http://bokeh.org) - библиотека для интерактивной визуализации данных. Она поможет быстро и легко создать интерактивные и красочные графики, которые можно встраивать в веб-приложения и изменять в режиме реального времени, информационные панели и приложения для обработки данных. И для этого в общем и целом не нужно глубокое понимание веб-разработки"
      ]
    },
    {
      "cell_type": "markdown",
      "metadata": {
        "id": "rPfDgSZFku6J"
      },
      "source": [
        "[Документация библиотеки](https://docs.bokeh.org/en/latest/) имеет разделение: для новых пользователей, пользователей, работавших ранее с библиотекой и имеющих базовое представление о ней и для продвинутых пользоваталей. Внутри каждой категории есть меню, так что можно быстро перейти к нужным функциям. Там не только представлено описание необходимых аргументов для их запуска и получаемый результат, но и показаны примеры их работы.\n",
        "\n",
        "Так что запутаться в документации даже новичку будет достаточно сложно."
      ]
    },
    {
      "cell_type": "markdown",
      "source": [
        "<img src=\"https://ltdfoto.ru/images/2023/11/25/bokeh_documentation.png\" alt=\"bokeh_documentation.png\" border=\"0\" />"
      ],
      "metadata": {
        "id": "3BhJGE_RB1TO"
      }
    },
    {
      "cell_type": "markdown",
      "metadata": {
        "id": "8OvubH9B-pAY"
      },
      "source": [
        "Прежде всего установим библиотеку:"
      ]
    },
    {
      "cell_type": "code",
      "source": [
        "#раскомментировать в случае необходимости\n",
        "#!pip install bokeh"
      ],
      "metadata": {
        "id": "JSY_Xbs5DFPO"
      },
      "execution_count": 3,
      "outputs": []
    },
    {
      "cell_type": "markdown",
      "metadata": {
        "id": "LsyRSXFe-pAg"
      },
      "source": [
        "Давайте начнём с создания различных базовых типов графиков."
      ]
    },
    {
      "cell_type": "markdown",
      "metadata": {
        "id": "959bJQ4PIrDm"
      },
      "source": [
        "## Line Chart"
      ]
    },
    {
      "cell_type": "markdown",
      "metadata": {
        "id": "PyohHKZh0iPv"
      },
      "source": [
        "Создадим обычный линейный график с помощью этой библиотеки"
      ]
    },
    {
      "cell_type": "code",
      "execution_count": 4,
      "metadata": {
        "id": "kDcHO2QAzZ5I"
      },
      "outputs": [],
      "source": [
        "from bokeh.plotting import figure, output_file, show\n",
        "from bokeh.io import curdoc"
      ]
    },
    {
      "cell_type": "markdown",
      "metadata": {
        "id": "T1a71bpB0n5r"
      },
      "source": [
        "В блоке выше импортировали следующие модули:\n",
        "\n",
        "*   `figure` - создание фигуры, отвечает за оси, сетки, базовые инструменты\n",
        "*   `output_file` - имя файла для сохранения полученной фигуры. Если не использовать, то Bokeh использует название текущего скрипта Python. Если же имя недоступно - сгенерирует случайное\n",
        "*   `show` - отображение графика\n",
        "*   `curdoc` - состояние документа\n",
        "\n",
        "\n"
      ]
    },
    {
      "cell_type": "code",
      "execution_count": 5,
      "metadata": {
        "id": "fbfdoojTzfLn"
      },
      "outputs": [],
      "source": [
        "# Создание графической фигуры\n",
        "line_gr = figure(title='Обычный линейный график', x_axis_label='Ось X', y_axis_label='Ось Y')\n",
        "\n",
        "# Данные для графика\n",
        "x = [1, 2, 3, 4, 5]\n",
        "y = [5, 10, 1, 3, 7]\n",
        "\n",
        "# Добавление линии по заданным данным\n",
        "line_gr.line(x, y, legend_label='розовая линия', line_width=4, line_color='#DDA0DD', line_alpha=0.6)\n",
        "\n",
        "# Отображение графика\n",
        "output_file('обычный_линейный_график.html')\n",
        "curdoc().theme = 'night_sky'\n",
        "show(line_gr)"
      ]
    },
    {
      "cell_type": "markdown",
      "metadata": {
        "id": "p2_NbsKi62UN"
      },
      "source": [
        "Получили html-файл \"обычный_линейный_график\", при загрузке которого получим следующее:"
      ]
    },
    {
      "cell_type": "markdown",
      "metadata": {
        "id": "I_XX3mDnHSDS"
      },
      "source": [
        "<img src=\"https://ltdfoto.ru/images/2023/11/25/SNIMOK-EKRANA-2023-11-17-V-19.28.19.png\" alt=\"SNIMOK-EKRANA-2023-11-17-V-19.28.19.png\" border=\"0\" />"
      ]
    },
    {
      "cell_type": "markdown",
      "metadata": {
        "id": "alq8i_zG-iKN"
      },
      "source": [
        "Что можно ещё поделать с этим графиком?\n",
        "\n",
        "$\\rightarrow$ изменять названия осей, используя `p.xaxis.axis_label` и `p.yaxis.axis_label`, и самого графика с помощью `p.title.text`\n",
        "\n",
        "$\\rightarrow$ добавлять ещё линии, продублировав `.line`\n",
        "\n",
        "$\\rightarrow$ можно изменять стиль линии, введя параметр `line_dash` в `line`, и разными маркерами обозначать её вершины (например, `.circle` или `.square`)"
      ]
    },
    {
      "cell_type": "markdown",
      "metadata": {
        "id": "j7unL0axI8qE"
      },
      "source": [
        "## Scatter plot"
      ]
    },
    {
      "cell_type": "markdown",
      "metadata": {
        "id": "o9lu2-1xJIrb"
      },
      "source": [
        "Теперь изобразим диаграмму рассеивания. Ничего дополнительно импортировать не будем."
      ]
    },
    {
      "cell_type": "code",
      "execution_count": 6,
      "metadata": {
        "id": "NHpdYYajKwGu"
      },
      "outputs": [],
      "source": [
        "# Создание графической фигуры\n",
        "scatter_pl = figure(title='Диаграмма рассеивания', x_axis_label='Ось X', y_axis_label='Ось Y', width=600, height=600)\n",
        "\n",
        "# Данные для диаграммы\n",
        "x = [1, 2, 3, 4, 5, 6]\n",
        "y = [10, 6, 3, 7, 1, 13]\n",
        "\n",
        "# Добавление кругликов\n",
        "scatter_pl.circle(x, y, size=21, color=\"#87CEFA\", alpha=0.7)\n",
        "\n",
        "# Отображение графика\n",
        "output_file('диаграмма_рассеивания.html')\n",
        "curdoc().theme = 'night_sky'\n",
        "show(scatter_pl)"
      ]
    },
    {
      "cell_type": "markdown",
      "metadata": {
        "id": "8WFlmuWq-pAv"
      },
      "source": [
        "Получили html-файл \"диаграмма_рассеивания\", при загрузке которого получим следующее:"
      ]
    },
    {
      "cell_type": "markdown",
      "metadata": {
        "id": "Dx-IndPUMkc5"
      },
      "source": [
        "<img src=\"https://ltdfoto.ru/images/2023/11/25/SNIMOK-EKRANA-2023-11-17-V-19.51.19.png\" alt=\"SNIMOK-EKRANA-2023-11-17-V-19.51.19.png\" border=\"0\" />"
      ]
    },
    {
      "cell_type": "markdown",
      "metadata": {
        "id": "nTiy69WRMnCm"
      },
      "source": [
        "Форму маркеров можно поменять, например на `asterisk`, `plus`, `inverted_triangle`, записав нужное в `scatter_pl.{}`. Также можно менять цвет и степень заливки маркеров."
      ]
    },
    {
      "cell_type": "markdown",
      "metadata": {
        "id": "UFQqfCh9JVf0"
      },
      "source": [
        "## Bar plot"
      ]
    },
    {
      "cell_type": "markdown",
      "metadata": {
        "id": "wi6BpMcgsLMA"
      },
      "source": [
        "Ещё посмотрим на столбчатую диаграмму"
      ]
    },
    {
      "cell_type": "code",
      "execution_count": 7,
      "metadata": {
        "id": "c_EkZgdON7OY"
      },
      "outputs": [],
      "source": [
        "from bokeh.models import ColumnDataSource\n",
        "from bokeh.transform import dodge"
      ]
    },
    {
      "cell_type": "markdown",
      "metadata": {
        "id": "gw7bNveQ-pA2"
      },
      "source": [
        "В блоке выше импортировали следующие модули:\n",
        "\n",
        "*   `ColumnDataSource` - упрощаем предоставление параметров в будущий график\n",
        "*   `dodge` - избегаем наложения столбцов (так как в примере создадим несколько столбцов)"
      ]
    },
    {
      "cell_type": "code",
      "execution_count": 8,
      "metadata": {
        "id": "wRVHAnt3N6JW"
      },
      "outputs": [],
      "source": [
        "#придумываем данные по населению частей света за 1800, 1900 и 2000 года\n",
        "world = ['Africa', 'Asia', 'Europe', 'Central and South America', 'North America', 'Australia and Oceania']\n",
        "years = ['1800', '1900', '2000']\n",
        "\n",
        "data = {'world' : world,\n",
        "        '1800'   : [108000,\t656000,\t200000,\t24000,\t7000,\t5000],\n",
        "        '1900'   : [133000,\t961000,\t400000,\t74000,\t82000,\t6000],\n",
        "        '2000'   : [795671,\t3729737,\t675000,\t520229,\t315915,\t31043]}\n",
        "\n",
        "source = ColumnDataSource(data=data)\n",
        "\n",
        "#создаём столбчатую диаграмму\n",
        "bar_pl = figure(x_range=world, y_range=(0, 4000000), title=\"Population of the world by Year\",\n",
        "           height=600, width=1000, toolbar_location=None, tools=\"\")\n",
        "\n",
        "bar_pl.vbar(x=dodge('world', -0.25, range=bar_pl.x_range), top='1800', source=source,\n",
        "       width=0.2, color=\"#c9d9d3\", legend_label=\"1800\")\n",
        "\n",
        "bar_pl.vbar(x=dodge('world',  0.0,  range=bar_pl.x_range), top='1900', source=source,\n",
        "       width=0.2, color=\"#718dbf\", legend_label=\"1900\")\n",
        "\n",
        "bar_pl.vbar(x=dodge('world',  0.25, range=bar_pl.x_range), top='2000', source=source,\n",
        "       width=0.2, color=\"#e84d60\", legend_label=\"2000\")\n",
        "\n",
        "bar_pl.x_range.range_padding = 0.05\n",
        "bar_pl.xgrid.grid_line_color = None\n",
        "bar_pl.legend.location = \"top_left\"\n",
        "bar_pl.legend.orientation = \"horizontal\"\n",
        "\n",
        "output_file('столбчатая_диаграмма.html')\n",
        "curdoc().theme = 'night_sky'\n",
        "\n",
        "show(bar_pl)"
      ]
    },
    {
      "cell_type": "markdown",
      "metadata": {
        "id": "g-y6AThQ-pA7"
      },
      "source": [
        "Получили html-файл \"столбчатая_диаграмма\", при загрузке которого получим следующее:"
      ]
    },
    {
      "cell_type": "markdown",
      "source": [
        "<img src=\"https://ltdfoto.ru/images/2023/11/25/SNIMOK-EKRANA-2023-11-20-V-19.45.42.png\" alt=\"SNIMOK-EKRANA-2023-11-20-V-19.45.42.png\" border=\"0\" />"
      ],
      "metadata": {
        "id": "RdGiTZOZEmPT"
      }
    },
    {
      "cell_type": "markdown",
      "metadata": {
        "id": "g187BaQDskCO"
      },
      "source": [
        "## Appearence"
      ]
    },
    {
      "cell_type": "markdown",
      "metadata": {
        "id": "QjwostKgtIEi"
      },
      "source": [
        "Работая с графиками в Bokeh, можно менять цвет, ширину, стиль линий на графиках (параметры `line_color`, `line_width`, `line_dash`), размеры и стиль текста в названии (параметры `text_font_size` и `text_font_style`) и многое другое. Подробнее про это можно почитать в документации библиотеки в разделе **Styling plot elements**. Там можно убедиться в том, что с помощью Bokeh можно сделать график исходя из абсолютно любых потребностей, меняя цвета и стиль всех его частей."
      ]
    },
    {
      "cell_type": "markdown",
      "metadata": {
        "id": "HMVAQS1iuyaA"
      },
      "source": [
        "Интересно посмотреть на так называемое *Visible property* на примере простого линейного графика. Посмотрим, как можно сделать видимость его части опциональной."
      ]
    },
    {
      "cell_type": "code",
      "execution_count": 9,
      "metadata": {
        "id": "EDdHGR5ywSHx"
      },
      "outputs": [],
      "source": [
        "from bokeh.layouts import layout\n",
        "from bokeh.models import Toggle"
      ]
    },
    {
      "cell_type": "markdown",
      "metadata": {
        "id": "sOUZbNqp-pBF"
      },
      "source": [
        "В блоке выше импортировали следующие модули:\n",
        "\n",
        "*   `layout` - объединяем элементы во что-то единое\n",
        "*   `Toggle` - забежали вперёд и добавили интерактив - переключатель"
      ]
    },
    {
      "cell_type": "code",
      "execution_count": 10,
      "metadata": {
        "id": "bfuEYEvIvLsJ"
      },
      "outputs": [],
      "source": [
        "line_pl = figure(width=600, height=300, tools='')\n",
        "line_pl.line([1, 2, 3], [1, 2, 1], line_color=\"#87CEFA\")\n",
        "\n",
        "#сделаем линию, которая будет появляться и исчезать\n",
        "green_line = line_pl.line([1, 2, 3], [2, 1, 2], line_color=\"#98FB98\")\n",
        "\n",
        "toggle = Toggle(label=\"Green Line\", button_type=\"success\", active=True)\n",
        "toggle.js_link('active', green_line, 'visible')\n",
        "\n",
        "output_file('минутка_интерактива.html')\n",
        "show(layout([line_pl], [toggle]))"
      ]
    },
    {
      "cell_type": "markdown",
      "metadata": {
        "id": "7om8uCja-pBK"
      },
      "source": [
        "Теперь если мы загрузим получившийся html-файл \"минутка_интерактива\", получим следующее:"
      ]
    },
    {
      "cell_type": "markdown",
      "source": [
        "<img src=\"https://ltdfoto.ru/images/2023/11/25/SNIMOK-EKRANA-2023-11-20-V-20.23.08.png\" alt=\"SNIMOK-EKRANA-2023-11-20-V-20.23.08.png\" border=\"0\" />"
      ],
      "metadata": {
        "id": "HRW_5wAVEhRm"
      }
    },
    {
      "cell_type": "markdown",
      "source": [
        "<img src=\"https://ltdfoto.ru/images/2023/11/25/SNIMOK-EKRANA-2023-11-20-V-20.23.043d91d6521f0e5457.png\" alt=\"SNIMOK-EKRANA-2023-11-20-V-20.23.043d91d6521f0e5457.png\" border=\"0\" />"
      ],
      "metadata": {
        "id": "hkepDdpiEatu"
      }
    },
    {
      "cell_type": "markdown",
      "metadata": {
        "id": "THfYnlhzYHKK"
      },
      "source": [
        "Заметим, что теперь зелёная линия на графике отображается только при зажатой кнопке *Green Line*. Аналогичное можно сделать и для какого-нибудь другого элемента графика, и даже для нескольких."
      ]
    },
    {
      "cell_type": "markdown",
      "metadata": {
        "id": "y4nuKW2k-pBO"
      },
      "source": [
        "## Math"
      ]
    },
    {
      "cell_type": "markdown",
      "metadata": {
        "id": "jLeYFgcbbO7s"
      },
      "source": [
        "С помощью Bokeh можно легко рисовать графики различных математических функций. Рассмотрим это на примере $y = cos(x)$."
      ]
    },
    {
      "cell_type": "code",
      "execution_count": 11,
      "metadata": {
        "id": "7qJY5t24-pBV"
      },
      "outputs": [],
      "source": [
        "from numpy import arange, pi, cos\n",
        "from bokeh.models.annotations.labels import Label"
      ]
    },
    {
      "cell_type": "markdown",
      "metadata": {
        "id": "mbvycl9t-pBW"
      },
      "source": [
        "В блоке выше импортировали следующие модули:\n",
        "\n",
        "*   `arange`, `pi`, `cos` - необходимые математические штуки\n",
        "*   `Label` - для пометок"
      ]
    },
    {
      "cell_type": "code",
      "execution_count": 12,
      "metadata": {
        "id": "RZ8DxiUobiTU"
      },
      "outputs": [],
      "source": [
        "#создаём данные\n",
        "x = arange(-2*pi, 2*pi, 0.1)\n",
        "y = cos(x)\n",
        "\n",
        "cosin = figure(height=250, title=r\"$$\\cos(x)$$ for \\[x\\] between \\(-2\\pi\\) and $$2\\pi$$\")\n",
        "cosin.circle(x, y, color=\"#87CEFA\", alpha=0.7, size=7)\n",
        "\n",
        "label = Label(\n",
        "    x=150, y=130,\n",
        "    x_units=\"screen\", y_units=\"screen\",\n",
        ")\n",
        "cosin.add_layout(label)\n",
        "\n",
        "cosin.yaxis.axis_label = r\"\\(\\cos(x)\\)\"\n",
        "cosin.xaxis.axis_label = r\"\\[x\\pi\\]\"\n",
        "\n",
        "output_file('невероятный_косинус.html')\n",
        "show(cosin)"
      ]
    },
    {
      "cell_type": "markdown",
      "metadata": {
        "id": "gWJpUlJEdBQi"
      },
      "source": [
        "<img src=\"https://ltdfoto.ru/images/2023/11/25/SNIMOK-EKRANA-2023-11-25-V-20.11.34.png\" alt=\"SNIMOK-EKRANA-2023-11-25-V-20.11.34.png\" border=\"0\" />"
      ]
    },
    {
      "cell_type": "markdown",
      "metadata": {
        "id": "pnvFoDbweB1r"
      },
      "source": [
        "## Interaction"
      ]
    },
    {
      "cell_type": "markdown",
      "metadata": {
        "id": "IP15CRfi-pBe"
      },
      "source": [
        "Вообще с помощью этой библиотеки удобно создавать разные интерактивные штуки. Одну из них мы уже попробовали сделать ранее - переключатель видимости для части графика. Но это далеко не единственное, что можно тут делать. Можно создавать слайдеры различных видов, кнопки, дропдауны и многое другое. Конечно, показать все будет невозможно. Посмотрим на те, которые показались мне наиболее интересными: кнопка выбора цвета на графике и поле ввода пароля.  "
      ]
    },
    {
      "cell_type": "code",
      "execution_count": 13,
      "metadata": {
        "id": "xPIoPgUX-pBf"
      },
      "outputs": [],
      "source": [
        "from bokeh.layouts import column\n",
        "from bokeh.models import ColorPicker"
      ]
    },
    {
      "cell_type": "markdown",
      "metadata": {
        "id": "j87fmvsr-pBg"
      },
      "source": [
        "В блоке выше импортировали следующие модули:\n",
        "\n",
        "*   `column` - другой layout объект\n",
        "*   `ColorPicker` - кнопка выбора цвета"
      ]
    },
    {
      "cell_type": "code",
      "execution_count": 14,
      "metadata": {
        "id": "Opax7wf-eHVs"
      },
      "outputs": [],
      "source": [
        "plot = figure(x_range=(0, 1), y_range=(0, 1), width=350, height=350)\n",
        "line = plot.line(x=(0,1), y=(0,1), color=\"black\", line_width=4)\n",
        "\n",
        "picker = ColorPicker(title=\"Line Color\")\n",
        "picker.js_link('color', line.glyph, 'line_color')\n",
        "\n",
        "output_file('с_выбором_цвета.html')\n",
        "show(column(plot, picker))"
      ]
    },
    {
      "cell_type": "markdown",
      "metadata": {
        "id": "uOdNzYjF-pBk"
      },
      "source": [
        "Загрузив получившийся html-файл \"c_выбором_цвета\", получим обычный линейный график, но с возможностью самостоятельного выбора цвета линии:"
      ]
    },
    {
      "cell_type": "markdown",
      "metadata": {
        "id": "iNt6iEzu-pBr"
      },
      "source": [
        "<img src=\"https://ltdfoto.ru/images/2023/11/25/SNIMOK-EKRANA-2023-11-25-V-20.20.25.png\" alt=\"SNIMOK-EKRANA-2023-11-25-V-20.20.25.png\" border=\"0\" /> <img src=\"https://ltdfoto.ru/images/2023/11/25/SNIMOK-EKRANA-2023-11-25-V-21.29.35.png\" alt=\"SNIMOK-EKRANA-2023-11-25-V-21.29.35.png\" border=\"0\" />"
      ]
    },
    {
      "cell_type": "markdown",
      "metadata": {
        "id": "NYLHAye6-pBs"
      },
      "source": [
        "Теперь посмотрим на ввод пароля, опять импортировав необходимые модули"
      ]
    },
    {
      "cell_type": "code",
      "execution_count": 15,
      "metadata": {
        "id": "bsfuWv_B-pBu"
      },
      "outputs": [],
      "source": [
        "from bokeh.models import CustomJS, PasswordInput"
      ]
    },
    {
      "cell_type": "code",
      "execution_count": 16,
      "metadata": {
        "id": "EKqqaH6Tf_ns"
      },
      "outputs": [],
      "source": [
        "password_input = PasswordInput(placeholder=\"enter password...\")\n",
        "password_input.js_on_change(\"value\", CustomJS(code=\"\"\"\n",
        "    console.log('password_input: value=' + this.value, this.toString())\n",
        "\"\"\"))\n",
        "\n",
        "output_file('пароль.html')\n",
        "show(password_input)"
      ]
    },
    {
      "cell_type": "markdown",
      "metadata": {
        "id": "zWdZkcgX-pBx"
      },
      "source": [
        "<img src=\"https://ltdfoto.ru/images/2023/11/25/SNIMOK-EKRANA-2023-11-25-V-20.22.06.png\" alt=\"SNIMOK-EKRANA-2023-11-25-V-20.22.06.png\" border=\"0\" />\n",
        "<img src=\"https://ltdfoto.ru/images/2023/11/25/SNIMOK-EKRANA-2023-11-25-V-20.22.09.png\" alt=\"SNIMOK-EKRANA-2023-11-25-V-20.22.09.png\" border=\"0\" />"
      ]
    },
    {
      "cell_type": "markdown",
      "metadata": {
        "id": "Hjwe-87o-pBy"
      },
      "source": [
        "## Conclusion"
      ]
    },
    {
      "cell_type": "markdown",
      "metadata": {
        "id": "1zA4ap3h-pBy"
      },
      "source": [
        "Вообще библиотека Bokeh содержит в себе много чего интересного, всё просто не рассмотреть в одном докладе. Я убедилась в следующем: она очень легка в работе. Это обеспечивает и достаточно простой синтаксис, и понятная документация. Библиотека позволяет визуализировать данные в удобном для их анализа формате: наглядной и интерактивной форме.\n",
        "\n",
        "Невероятно милый квокка для настроения"
      ]
    },
    {
      "cell_type": "markdown",
      "metadata": {
        "id": "HRTaO9RA-pBz"
      },
      "source": [
        "<img src=\"https://ltdfoto.ru/images/2023/11/25/photo_2023-11-25-21.55.41.jpg\" alt=\"photo_2023-11-25-21.55.41.jpg\" border=\"0\" />"
      ]
    }
  ],
  "metadata": {
    "colab": {
      "provenance": []
    },
    "kernelspec": {
      "display_name": "Python 3",
      "name": "python3"
    },
    "language_info": {
      "name": "python"
    }
  },
  "nbformat": 4,
  "nbformat_minor": 0
}